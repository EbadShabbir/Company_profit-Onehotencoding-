{
 "cells": [
  {
   "cell_type": "code",
   "execution_count": 1,
   "id": "18e90c71",
   "metadata": {
    "_cell_guid": "b1076dfc-b9ad-4769-8c92-a6c4dae69d19",
    "_uuid": "8f2839f25d086af736a60e9eeb907d3b93b6e0e5",
    "execution": {
     "iopub.execute_input": "2024-10-13T06:46:01.496440Z",
     "iopub.status.busy": "2024-10-13T06:46:01.495871Z",
     "iopub.status.idle": "2024-10-13T06:46:04.037892Z",
     "shell.execute_reply": "2024-10-13T06:46:04.036587Z"
    },
    "papermill": {
     "duration": 2.548892,
     "end_time": "2024-10-13T06:46:04.040628",
     "exception": false,
     "start_time": "2024-10-13T06:46:01.491736",
     "status": "completed"
    },
    "tags": []
   },
   "outputs": [
    {
     "name": "stdout",
     "output_type": "stream",
     "text": [
      "Train Score:  0.9501847627493607\n",
      "Test Score:  0.9347068473282987\n"
     ]
    }
   ],
   "source": [
    "import numpy as np\n",
    "import pandas as pd\n",
    "import matplotlib.pyplot as mtp\n",
    "from sklearn.compose import ColumnTransformer\n",
    "from sklearn.preprocessing import OneHotEncoder\n",
    "from sklearn.model_selection import train_test_split\n",
    "from sklearn.linear_model import LinearRegression\n",
    "\n",
    "# Importing dataset\n",
    "data_set = pd.read_csv('/kaggle/input/revising-onehotencoding/50_Startups.csv')\n",
    "\n",
    "# Extracting independent and dependent variables\n",
    "x = data_set.iloc[:, :-1].values  # All columns except the last one (independent variables)\n",
    "y = data_set.iloc[:, -1].values   # Only the last column (Profit)\n",
    "\n",
    "# One-hot encoding the categorical data (State is in column index 3)\n",
    "ct = ColumnTransformer(transformers=[('encoder', OneHotEncoder(), [3])], remainder='passthrough')\n",
    "x = np.array(ct.fit_transform(x))\n",
    "\n",
    "# Avoiding the dummy variable trap (removing the first column of the one-hot encoded variables)\n",
    "x = x[:, 1:]\n",
    "\n",
    "# Splitting the dataset into the training set and test set\n",
    "x_train, x_test, y_train, y_test = train_test_split(x, y, test_size=0.2, random_state=0)\n",
    "\n",
    "# Fitting the multiple linear regression model to the training set\n",
    "regressor = LinearRegression()\n",
    "regressor.fit(x_train, y_train)\n",
    "\n",
    "# Now the model is trained and ready for predictions on the test set if needed\n",
    "y_pred= regressor.predict(x_test)  \n",
    "print('Train Score: ', regressor.score(x_train, y_train))  \n",
    "print('Test Score: ', regressor.score(x_test, y_test))  "
   ]
  }
 ],
 "metadata": {
  "kaggle": {
   "accelerator": "none",
   "dataSources": [
    {
     "datasetId": 3088267,
     "sourceId": 5313833,
     "sourceType": "datasetVersion"
    }
   ],
   "dockerImageVersionId": 30786,
   "isGpuEnabled": false,
   "isInternetEnabled": true,
   "language": "python",
   "sourceType": "notebook"
  },
  "kernelspec": {
   "display_name": "Python 3",
   "language": "python",
   "name": "python3"
  },
  "language_info": {
   "codemirror_mode": {
    "name": "ipython",
    "version": 3
   },
   "file_extension": ".py",
   "mimetype": "text/x-python",
   "name": "python",
   "nbconvert_exporter": "python",
   "pygments_lexer": "ipython3",
   "version": "3.10.14"
  },
  "papermill": {
   "default_parameters": {},
   "duration": 6.148143,
   "end_time": "2024-10-13T06:46:04.664493",
   "environment_variables": {},
   "exception": null,
   "input_path": "__notebook__.ipynb",
   "output_path": "__notebook__.ipynb",
   "parameters": {},
   "start_time": "2024-10-13T06:45:58.516350",
   "version": "2.6.0"
  }
 },
 "nbformat": 4,
 "nbformat_minor": 5
}
